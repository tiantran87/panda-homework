{
 "cells": [
  {
   "cell_type": "code",
   "execution_count": null,
   "id": "6256a845-4f4a-42d0-a85b-24446188c429",
   "metadata": {},
   "outputs": [],
   "source": [
    "# Drop Symbol column and rename close clumn\n",
    "shop_data = shop_data.drop([\"Symbol\"], axis=1)\n",
    "shop_data = shop_data.rename(columns={\"Close\": \"Shopify\"})\n",
    "shop_data.head(10)"
   ]
  }
 ],
 "metadata": {
  "kernelspec": {
   "display_name": "Python 3",
   "language": "python",
   "name": "python3"
  },
  "language_info": {
   "codemirror_mode": {
    "name": "ipython",
    "version": 3
   },
   "file_extension": ".py",
   "mimetype": "text/x-python",
   "name": "python",
   "nbconvert_exporter": "python",
   "pygments_lexer": "ipython3",
   "version": "3.7.10"
  }
 },
 "nbformat": 4,
 "nbformat_minor": 5
}
